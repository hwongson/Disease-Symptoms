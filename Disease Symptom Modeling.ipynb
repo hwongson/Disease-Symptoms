{
 "cells": [
  {
   "cell_type": "markdown",
   "id": "028309c7",
   "metadata": {},
   "source": [
    "DATA LOADING AND EXPLORATION"
   ]
  },
  {
   "cell_type": "code",
   "execution_count": null,
   "id": "b220e781",
   "metadata": {},
   "outputs": [],
   "source": [
    "# Import Pandas, numpy, matplotlib and seaborn\n",
    "import pandas as pd\n",
    "import matplotlib.pyplot as plt\n",
    "import numpy as np\n",
    "import seaborn as sns"
   ]
  },
  {
   "cell_type": "code",
   "execution_count": null,
   "id": "179a5fee",
   "metadata": {},
   "outputs": [],
   "source": [
    "# Load the Disease Symptom data set, checking first few rows\n",
    "disease = pd.read_csv(\"disease_symptoms_dataset.csv\")\n",
    "print(disease.head())"
   ]
  },
  {
   "cell_type": "code",
   "execution_count": null,
   "id": "a2d1afda",
   "metadata": {},
   "outputs": [],
   "source": [
    "# Find basic data set parameters: shape, missing values\n",
    "print(\"Shape: \", disease.shape)\n",
    "print(\"\\n\")\n",
    "print(disease.info())\n",
    "print(\"\\n\")\n",
    "\n",
    "# 790 entries, 10 columns.\n",
    "\n",
    "# Exact missing value count\n",
    "missing_values = disease.isnull().sum()\n",
    "print(\"Missing Values: \\n\", missing_values)\n",
    "\n",
    "# Symptom columns gain more null values with each column iteration (expected).\n",
    "# Severity has high number of null values.  Investigate this further.\n",
    "\n",
    "# Visualize missing values with seaborn\n",
    "sns.heatmap(disease.isnull(), cbar=False, cmap='viridis')\n",
    "plt.title(\"Heatmap of Missing Values\")\n",
    "plt.show()"
   ]
  },
  {
   "cell_type": "code",
   "execution_count": null,
   "id": "72c9d171",
   "metadata": {},
   "outputs": [],
   "source": [
    "# Based on the missing values distribution and data type of the column, it would appear that\n",
    "# Symptom_4 is holding data for column Severity.  These two will be merged and Symptom_4 deleted.\n",
    "disease[\"Severity\"] = disease[\"Severity\"].fillna(disease[\"Symptom_4\"])\n",
    "disease = disease.drop([\"Symptom_4\"], axis=1)\n",
    "print(disease.head())\n",
    "print(\"\\n\")\n",
    "\n",
    "# Check missing values for Severity now, and make sure Severity is still a float type.\n",
    "missing_values = disease.isnull().sum()\n",
    "print(\"Missing Values: \\n\", missing_values)\n",
    "print(\"\\n\")\n",
    "print(disease.info())\n",
    "\n",
    "# All missing values of Severity are gone, and it is still a float type object."
   ]
  },
  {
   "cell_type": "code",
   "execution_count": null,
   "id": "dc3f9b9d",
   "metadata": {},
   "outputs": [],
   "source": [
    "# Investigate Symptom predictor columns\n",
    "print(\"Symptom 1: \\n\")\n",
    "print(disease[\"Symptom_1\"].value_counts())\n",
    "print(\"\\n\")\n",
    "\n",
    "print(\"Symptom 2: \\n\")\n",
    "print(disease[\"Symptom_2\"].value_counts())\n",
    "print(\"\\n\")\n",
    "\n",
    "print(\"Symptom 3: \\n\")\n",
    "print(disease[\"Symptom_3\"].value_counts())\n",
    "print(\"\\n\")\n",
    "\n",
    "# Some symptoms are shared between columns.  Therefore, the list of possible\n",
    "# symptoms in each column is not unique.\n",
    "\n",
    "# Impute missing values in symptoms with \"None\"\n",
    "disease = disease.fillna(\"None\")\n",
    "print(\"Missing Values: \\n\", disease.isnull().sum())"
   ]
  },
  {
   "cell_type": "code",
   "execution_count": null,
   "id": "47fd549f",
   "metadata": {},
   "outputs": [],
   "source": [
    "# Investigate disease distribution\n",
    "target = \"Disease\"\n",
    "print(disease[target].value_counts())\n",
    "\n",
    "# Visualize disease distribution\n",
    "sns.countplot(x=target, data=disease)\n",
    "plt.title(\"Disease Variable Distribution\")\n",
    "plt.xticks([])\n",
    "plt.show()\n",
    "\n",
    "# According to distribution and target value counts, many diseases only have a single entry - many more than that\n",
    "# have under 10.  "
   ]
  },
  {
   "cell_type": "markdown",
   "id": "34c4924d",
   "metadata": {},
   "source": [
    "VARIABLE PREPROCESSING"
   ]
  },
  {
   "cell_type": "code",
   "execution_count": null,
   "id": "d3e2b813",
   "metadata": {},
   "outputs": [],
   "source": [
    "# Majority of variables are categorical.  Import sklearn label encoder for binary variables, use\n",
    "# one-hot encoding for multiclass.\n",
    "from sklearn.preprocessing import LabelEncoder\n",
    "\n",
    "# Create duplicate of disease as a checkpoint variable\n",
    "disease_tr = disease"
   ]
  },
  {
   "cell_type": "code",
   "execution_count": null,
   "id": "702a0e53",
   "metadata": {},
   "outputs": [],
   "source": [
    "# Encode Gender variable\n",
    "lb_enc = LabelEncoder()\n",
    "disease_tr[\"Gender\"] = lb_enc.fit_transform(disease_tr[\"Gender\"])\n",
    "\n",
    "# Encode multiclass variables with get_dummies\n",
    "multiclass = [\"Symptom_1\", \"Symptom_2\", \"Symptom_3\"]\n",
    "disease_tr = pd.get_dummies(disease_tr, columns = multiclass)\n",
    "\n",
    "# Encode disease label with label encoder\n",
    "disease_tr[\"Disease\"] = lb_enc.fit_transform((disease_tr[\"Disease\"]))"
   ]
  },
  {
   "cell_type": "code",
   "execution_count": null,
   "id": "a5abeb46",
   "metadata": {},
   "outputs": [],
   "source": [
    "# Implement a standard scalar for latitude and longitude\n",
    "from sklearn.preprocessing import StandardScaler\n",
    "\n",
    "scaler = StandardScaler()\n",
    "lat_long = [\"Latitude\", \"Longitude\"]\n",
    "disease_tr[lat_long] = scaler.fit_transform(disease_tr[lat_long])"
   ]
  },
  {
   "cell_type": "code",
   "execution_count": null,
   "id": "2112e0b9",
   "metadata": {},
   "outputs": [],
   "source": [
    "# In order to train the model, classes with only 1 entry must be dropped.  Keep only rows where the disease class\n",
    "# is in the top 10 most common diseases for the data set.\n",
    "\n",
    "top_10_diseases = disease_tr['Disease'].value_counts().nlargest(10).index\n",
    "\n",
    "# Filter the dataset to keep only rows where Disease is in the top 10\n",
    "disease_tr = disease_tr[disease_tr['Disease'].isin(top_10_diseases)]"
   ]
  },
  {
   "cell_type": "markdown",
   "id": "57766d9f",
   "metadata": {},
   "source": [
    "TRAINING"
   ]
  },
  {
   "cell_type": "code",
   "execution_count": null,
   "id": "2b042f0a",
   "metadata": {},
   "outputs": [],
   "source": [
    "# Seperate features and target variable\n",
    "x = disease_tr.drop(\"Disease\", axis = 1)\n",
    "y = disease_tr[\"Disease\"]"
   ]
  },
  {
   "cell_type": "code",
   "execution_count": null,
   "id": "41a45596",
   "metadata": {},
   "outputs": [],
   "source": [
    "# Split data into training and testing\n",
    "from sklearn.model_selection import train_test_split\n",
    "\n",
    "x_train, x_test, y_train, y_test = train_test_split(x, y, test_size=0.2, stratify=y, random_state=76)\n"
   ]
  },
  {
   "cell_type": "code",
   "execution_count": null,
   "id": "a48de0cd",
   "metadata": {},
   "outputs": [],
   "source": [
    "# Train the model on a random forest classifier model\n",
    "from sklearn.ensemble import RandomForestClassifier\n",
    "\n",
    "# Initialize the model\n",
    "dis_rf = RandomForestClassifier(n_estimators=100, random_state=42)\n",
    "\n",
    "# Train the model\n",
    "dis_rf.fit(x_train, y_train)"
   ]
  },
  {
   "cell_type": "code",
   "execution_count": null,
   "id": "96336c6d",
   "metadata": {},
   "outputs": [],
   "source": [
    "# Evaluate performance\n",
    "from sklearn.metrics import accuracy_score, classification_report, confusion_matrix\n",
    "\n",
    "# Predict on the test set\n",
    "y_pred = dis_rf.predict(x_test)\n",
    "\n",
    "# Accuracy\n",
    "accuracy = accuracy_score(y_test, y_pred)\n",
    "print(f\"Accuracy: {accuracy:.2f}\")\n",
    "\n",
    "# Classification report\n",
    "print(classification_report(y_test, y_pred))\n",
    "\n",
    "# Model perfectly identifies test cases"
   ]
  },
  {
   "cell_type": "code",
   "execution_count": null,
   "id": "0aedaca3",
   "metadata": {},
   "outputs": [],
   "source": [
    "# Create confusion matrix\n",
    "conf_matrix = confusion_matrix(y_test, y_pred)\n",
    "class_names = list(disease_tr.Disease.unique())\n",
    "\n",
    "plt.figure(figsize=(8, 6))\n",
    "sns.heatmap(conf_matrix, annot=True, fmt='d', cmap='Blues', xticklabels=class_names, yticklabels=class_names)\n",
    "\n",
    "# Add labels, title, and ticks\n",
    "plt.xlabel('Predicted')\n",
    "plt.ylabel('Actual')\n",
    "plt.title('Confusion Matrix')\n",
    "plt.show()"
   ]
  },
  {
   "cell_type": "code",
   "execution_count": null,
   "id": "da29fa95",
   "metadata": {},
   "outputs": [],
   "source": [
    "# Identify feature importances\n",
    "feature_importances = dis_rf.feature_importances_\n",
    "\n",
    "# Combine feature names and importances into a DataFrame\n",
    "feature_importance = pd.DataFrame({\n",
    "    'Feature': x.columns,\n",
    "    'Importance': feature_importances\n",
    "}).sort_values(by='Importance', ascending=False)\n",
    "\n",
    "# Get the top 10 features\n",
    "top_10_features = feature_importance.head(10)\n",
    "\n",
    "# Display the top 10 features\n",
    "print(\"top 10 features: \\n\", top_10_features)\n",
    "\n",
    "# Plot the top 10 features\n",
    "plt.figure(figsize=(10, 6))\n",
    "plt.barh(top_10_features['Feature'], top_10_features['Importance'])\n",
    "plt.gca().invert_yaxis()  # Invert the y-axis to display the most important feature at the top\n",
    "plt.title('Top 10 Most Important Features')\n",
    "plt.xlabel('Importance')\n",
    "plt.ylabel('Features')\n",
    "plt.show()"
   ]
  },
  {
   "cell_type": "markdown",
   "id": "f8062c09",
   "metadata": {},
   "source": [
    "The takeaway appears to be that the most important predictors for a given disease are the severity of the symptoms, location, age of patient, and the presence of several common symptoms (nausea, cough, headache, itchy eyes, sneezing, and joint pain).  It is important to note that these are very generic symptoms often associated with the common cold, yet different combinations could also indicate several other diseases (flu, allergies, etc.)."
   ]
  }
 ],
 "metadata": {
  "kernelspec": {
   "display_name": "Python 3 (ipykernel)",
   "language": "python",
   "name": "python3"
  },
  "language_info": {
   "codemirror_mode": {
    "name": "ipython",
    "version": 3
   },
   "file_extension": ".py",
   "mimetype": "text/x-python",
   "name": "python",
   "nbconvert_exporter": "python",
   "pygments_lexer": "ipython3",
   "version": "3.9.13"
  }
 },
 "nbformat": 4,
 "nbformat_minor": 5
}
